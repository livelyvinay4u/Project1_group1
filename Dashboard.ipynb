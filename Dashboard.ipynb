{
 "cells": [
  {
   "cell_type": "code",
   "execution_count": 7,
   "metadata": {},
   "outputs": [],
   "source": [
    "# Imports\n",
    "\n",
    "import plotly.express as px\n",
    "import panel as pn\n",
    "import pandas as pd\n",
    "import os\n",
    "from pathlib import Path\n",
    "from dotenv import load_dotenv\n",
    "import yfinance as yf\n",
    "import requests\n",
    "import hvplot.pandas\n",
    "import json"
   ]
  },
  {
   "cell_type": "code",
   "execution_count": 2,
   "metadata": {},
   "outputs": [
    {
     "name": "stderr",
     "output_type": "stream",
     "text": [
      "WARNING:param.panel_extension: A HoloViz extension was loaded previously. This means the extension is already initialized and the following Panel extensions could not be properly loaded: ['plotly']. If you are loading custom extensions with pn.extension(...) ensure that this is called before any other HoloViz extension such as hvPlot or HoloViews.\n"
     ]
    }
   ],
   "source": [
    "# Set up Panel Plotly extension\n",
    "pn.extension('plotly')"
   ]
  },
  {
   "cell_type": "code",
   "execution_count": 3,
   "metadata": {},
   "outputs": [
    {
     "name": "stdout",
     "output_type": "stream",
     "text": [
      "[*********************100%***********************]  1 of 1 completed\n",
      "[*********************100%***********************]  1 of 1 completed\n",
      "[*********************100%***********************]  1 of 1 completed\n"
     ]
    }
   ],
   "source": [
    "# Setup all DataFrames\n",
    "# Gold\n",
    "\n",
    "gold = yf.download('GC=F', period='max')\n",
    "gold_data = pd.DataFrame(gold['Close']).pct_change().dropna().rename(columns={\"Close\": \"Gold\"})\n",
    "\n",
    "# Oil\n",
    "\n",
    "oil = yf.download(\"CL=F\", period='max')\n",
    "oil_data = pd.DataFrame(oil['Close']).pct_change().dropna().rename(columns={\"Close\": \"Oil\"})\n",
    "\n",
    "# S&P 500\n",
    "\n",
    "snp = yf.download('^GSPC', period='max')\n",
    "snp_data = pd.DataFrame(snp['Close']).pct_change().dropna().rename(columns={\"Close\": \"S&P 500\"})"
   ]
  },
  {
   "cell_type": "code",
   "execution_count": 4,
   "metadata": {},
   "outputs": [
    {
     "name": "stdout",
     "output_type": "stream",
     "text": [
      "2022-04-07 19:58:18.605873\n"
     ]
    }
   ],
   "source": [
    "today = pd.to_datetime('today')\n",
    "print(today)"
   ]
  },
  {
   "cell_type": "code",
   "execution_count": 5,
   "metadata": {},
   "outputs": [],
   "source": [
    "# Slice out Data\n",
    "# GFC\n",
    "\n",
    "gold_data_gfc = gold_data.loc[\"2006-06-01\":\"2010-01-01\"]\n",
    "oil_data_gfc = oil_data.loc[\"2006-06-01\":\"2010-01-01\"]\n",
    "snp_data_gfc = snp_data.loc[\"2006-06-01\":\"2010-01-01\"]\n",
    "\n",
    "# 9/11 and Afghan\n",
    "\n",
    "gold_data_911 = gold_data.loc[\"2000-10-07\":\"2005-08-30\"]\n",
    "oil_data_911 = oil_data.loc[\"2000-10-07\":\"2005-08-30\"]\n",
    "snp_data_911 = snp_data.loc[\"2000-10-07\":\"2005-08-30\"]\n",
    "\n",
    "# COVID-19\n",
    "\n",
    "gold_data_covid = gold_data.loc[\"2018-12-31\":today]\n",
    "oil_data_covid = oil_data.loc[\"2018-12-31\":today]\n",
    "snp_data_covid = snp_data.loc[\"2018-12-31\":today]\n",
    "\n",
    "# Potential long-term effects of war from the analysis of previous war data? Ukraine Russia War\n",
    "\n",
    "gold_data_long = gold_data.loc[\"2000-10-07\":\"2012-12-15\"]\n",
    "oil_data_long = oil_data.loc[\"2000-10-07\":\"2012-12-15\"]\n",
    "snp_data_long = snp_data.loc[\"2000-10-07\":\"2012-12-15\"]\n",
    "\n",
    "# What are the current short-term effects of war? (Ukraine Russia War)\n",
    "\n",
    "gold_data_short = gold_data.loc[\"2022-02-24\":today]\n",
    "oil_data_short = oil_data.loc[\"2022-02-24\":today]\n",
    "snp_data_short = snp_data.loc[\"2022-02-24\":today]\n"
   ]
  },
  {
   "cell_type": "code",
   "execution_count": 6,
   "metadata": {},
   "outputs": [],
   "source": [
    "# Concat by every event\n",
    "# GFC\n",
    "event_gfc = pd.concat(\n",
    "    [gold_data_gfc, oil_data_gfc, snp_data_gfc], axis=\"columns\", join=\"inner\"\n",
    ")\n",
    "# 9/11\n",
    "\n",
    "event_911 = pd.concat(\n",
    "    [gold_data_911, oil_data_911, snp_data_911], axis=\"columns\", join=\"inner\"\n",
    ")\n",
    "\n",
    "# COVID-19\n",
    "\n",
    "event_covid = pd.concat(\n",
    "    [gold_data_covid, oil_data_covid, snp_data_covid], axis=\"columns\", join=\"inner\"\n",
    ")\n",
    "\n",
    "# Potential long-term effects of war from the analysis of previous war data? Ukraine Russia War\n",
    "\n",
    "event_long = pd.concat(\n",
    "    [gold_data_long, oil_data_long, snp_data_long], axis=\"columns\", join=\"inner\"\n",
    ")\n",
    "\n",
    "# What are the current short-term effects of war? (Ukraine Russia War)\n",
    "\n",
    "event_short = pd.concat(\n",
    "    [gold_data_short, oil_data_short, snp_data_short], axis=\"columns\", join=\"inner\"\n",
    ")"
   ]
  },
  {
   "cell_type": "code",
   "execution_count": 13,
   "metadata": {},
   "outputs": [
    {
     "ename": "IndentationError",
     "evalue": "expected an indented block (3150026661.py, line 4)",
     "output_type": "error",
     "traceback": [
      "\u001b[0;36m  File \u001b[0;32m\"/var/folders/09/gwbv7v312nsdpk6hsrf7kx100000gn/T/ipykernel_79526/3150026661.py\"\u001b[0;36m, line \u001b[0;32m4\u001b[0m\n\u001b[0;31m    def covid_volatility():\u001b[0m\n\u001b[0m      ^\u001b[0m\n\u001b[0;31mIndentationError\u001b[0m\u001b[0;31m:\u001b[0m expected an indented block\n"
     ]
    }
   ],
   "source": [
    "# Create Plots\n",
    "def covid_cum_returns():\n",
    "\n",
    "def covid_volatility():\n",
    "\n",
    "def gfc1():\n",
    "\n",
    "def gfc2():\n",
    "\n",
    "def ukraine1():\n",
    "\n",
    "def ukraine2():"
   ]
  },
  {
   "cell_type": "code",
   "execution_count": null,
   "metadata": {},
   "outputs": [],
   "source": []
  }
 ],
 "metadata": {
  "interpreter": {
   "hash": "ec88ba6f39f6c39abc9685110e4781b162d9134e827af1326836dde47398624e"
  },
  "kernelspec": {
   "display_name": "Python 3.7.11 ('pyvizenv')",
   "language": "python",
   "name": "python3"
  },
  "language_info": {
   "codemirror_mode": {
    "name": "ipython",
    "version": 3
   },
   "file_extension": ".py",
   "mimetype": "text/x-python",
   "name": "python",
   "nbconvert_exporter": "python",
   "pygments_lexer": "ipython3",
   "version": "3.7.11"
  },
  "orig_nbformat": 4
 },
 "nbformat": 4,
 "nbformat_minor": 2
}
