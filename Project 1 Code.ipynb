{
 "cells": [
  {
   "cell_type": "code",
   "execution_count": null,
   "id": "ca217c40-2d69-4a6c-99f6-fd84497cb542",
   "metadata": {},
   "outputs": [],
   "source": [
    "# Imports\n"
   ]
  },
  {
   "cell_type": "code",
   "execution_count": null,
   "id": "663cff5b-7e6c-4b95-b9e7-bfd2606ca7e8",
   "metadata": {},
   "outputs": [],
   "source": [
    "# Import CSV\n"
   ]
  },
  {
   "cell_type": "code",
   "execution_count": null,
   "id": "cc7c6a8a-1949-4f1d-8a70-70309680b606",
   "metadata": {},
   "outputs": [],
   "source": []
  }
 ],
 "metadata": {
  "kernelspec": {
   "display_name": "Python 3 (ipykernel)",
   "language": "python",
   "name": "python3"
  },
  "language_info": {
   "codemirror_mode": {
    "name": "ipython",
    "version": 3
   },
   "file_extension": ".py",
   "mimetype": "text/x-python",
   "name": "python",
   "nbconvert_exporter": "python",
   "pygments_lexer": "ipython3",
   "version": "3.9.7"
  }
 },
 "nbformat": 4,
 "nbformat_minor": 5
}
