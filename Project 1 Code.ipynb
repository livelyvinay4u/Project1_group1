{
 "cells": [
  {
   "cell_type": "code",
   "execution_count": 52,
   "id": "323b62fb",
   "metadata": {},
   "outputs": [],
   "source": [
    "# Imports\n",
    "import plotly.express as px\n",
    "import panel as pn\n",
    "import pandas as pd\n",
    "import os\n",
    "from pathlib import Path\n",
    "from dotenv import load_dotenv\n",
    "import yfinance as yf\n",
    "import requests\n",
    "import hvplot.pandas\n",
    "import json\n"
   ]
  },
  {
   "cell_type": "code",
   "execution_count": 53,
   "id": "b1e4f666",
   "metadata": {},
   "outputs": [
    {
     "name": "stdout",
     "output_type": "stream",
     "text": [
      "[*********************100%***********************]  1 of 1 completed\n",
      "[*********************100%***********************]  1 of 1 completed\n",
      "[*********************100%***********************]  1 of 1 completed\n"
     ]
    }
   ],
   "source": [
    "# Setup all DataFrames\n",
    "# Gold\n",
    "\n",
    "gold = yf.download('GC=F', period='max')\n",
    "gold_data = pd.DataFrame(gold['Close']).pct_change().dropna().rename(columns={\"Close\": \"Gold\"})\n",
    "\n",
    "# Oil\n",
    "\n",
    "oil = yf.download(\"CL=F\", period='max')\n",
    "oil_data = pd.DataFrame(oil['Close']).pct_change().dropna().rename(columns={\"Close\": \"Oil\"})\n",
    "\n",
    "# S&P 500\n",
    "\n",
    "snp = yf.download('^GSPC', period='max')\n",
    "snp_data = pd.DataFrame(snp['Close']).pct_change().dropna().rename(columns={\"Close\": \"S&P 500\"})"
   ]
  },
  {
   "cell_type": "code",
   "execution_count": 54,
   "id": "6d358012",
   "metadata": {},
   "outputs": [
    {
     "name": "stdout",
     "output_type": "stream",
     "text": [
      "2022-04-04 21:08:01.355735\n"
     ]
    }
   ],
   "source": [
    "today = pd.to_datetime('today')\n",
    "print(today)"
   ]
  },
  {
   "cell_type": "code",
   "execution_count": 55,
   "id": "ac8092cb",
   "metadata": {},
   "outputs": [],
   "source": [
    "# Slice out Data\n",
    "# GFC\n",
    "\n",
    "gold_data_gfc = gold_data.loc[\"2006-06-01\":\"2010-01-01\"]\n",
    "oil_data_gfc = oil_data.loc[\"2006-06-01\":\"2010-01-01\"]\n",
    "snp_data_gfc = snp_data.loc[\"2006-06-01\":\"2010-01-01\"]\n",
    "\n",
    "# 9/11 and Afghan\n",
    "\n",
    "gold_data_911 = gold_data.loc[\"2000-10-07\":\"2005-08-30\"]\n",
    "oil_data_911 = oil_data.loc[\"2000-10-07\":\"2005-08-30\"]\n",
    "snp_data_911 = snp_data.loc[\"2000-10-07\":\"2005-08-30\"]\n",
    "\n",
    "# COVID-19\n",
    "\n",
    "gold_data_covid = gold_data.loc[\"2018-12-31\":today]\n",
    "oil_data_covid = oil_data.loc[\"2018-12-31\":today]\n",
    "snp_data_covid = snp_data.loc[\"2018-12-31\":today]\n",
    "\n",
    "# Potential long-term effects of war from the analysis of previous war data? Ukraine Russia War\n",
    "\n",
    "gold_data_long = gold_data.loc[\"2000-10-07\":\"2012-12-15\"]\n",
    "oil_data_long = oil_data.loc[\"2000-10-07\":\"2012-12-15\"]\n",
    "snp_data_long = snp_data.loc[\"2000-10-07\":\"2012-12-15\"]\n",
    "\n",
    "# What are the current short-term effects of war? (Ukraine Russia War)\n",
    "\n",
    "gold_data_short = gold_data.loc[\"2022-02-24\":today]\n",
    "oil_data_short = oil_data.loc[\"2022-02-24\":today]\n",
    "snp_data_short = snp_data.loc[\"2022-02-24\":today]\n"
   ]
  },
  {
   "cell_type": "code",
   "execution_count": 56,
   "id": "2a17f042",
   "metadata": {},
   "outputs": [],
   "source": [
    "# Concat by every event\n",
    "# GFC\n",
    "event_gfc = pd.concat(\n",
    "    [gold_data_gfc, oil_data_gfc, snp_data_gfc], axis=\"columns\", join=\"inner\"\n",
    ")\n",
    "# 9/11\n",
    "\n",
    "event_911 = pd.concat(\n",
    "    [gold_data_911, oil_data_911, snp_data_911], axis=\"columns\", join=\"inner\"\n",
    ")\n",
    "\n",
    "# COVID-19\n",
    "\n",
    "event_covid = pd.concat(\n",
    "    [gold_data_covid, oil_data_covid, snp_data_covid], axis=\"columns\", join=\"inner\"\n",
    ")\n",
    "\n",
    "# Potential long-term effects of war from the analysis of previous war data? Ukraine Russia War\n",
    "\n",
    "event_long = pd.concat(\n",
    "    [gold_data_long, oil_data_long, snp_data_long], axis=\"columns\", join=\"inner\"\n",
    ")\n",
    "\n",
    "# What are the current short-term effects of war? (Ukraine Russia War)\n",
    "\n",
    "event_short = pd.concat(\n",
    "    [gold_data_short, oil_data_short, snp_data_short], axis=\"columns\", join=\"inner\"\n",
    ")"
   ]
  }
 ],
 "metadata": {
  "kernelspec": {
   "display_name": "Python 3 (ipykernel)",
   "language": "python",
   "name": "python3"
  },
  "language_info": {
   "codemirror_mode": {
    "name": "ipython",
    "version": 3
   },
   "file_extension": ".py",
   "mimetype": "text/x-python",
   "name": "python",
   "nbconvert_exporter": "python",
   "pygments_lexer": "ipython3",
   "version": "3.7.11"
  }
 },
 "nbformat": 4,
 "nbformat_minor": 5
}
